{
 "cells": [
  {
   "cell_type": "raw",
   "metadata": {},
   "source": [
    "---\n",
    "format: html\n",
    "fontsize: 16px\n",
    "fig-align: center\n",
    "---"
   ]
  },
  {
   "attachments": {},
   "cell_type": "markdown",
   "metadata": {},
   "source": [
    "# Experimenting with SINDy-PI\n",
    "\n",
    "Here we begin trying to replicate the experiments in [a SINDy-PI\n",
    "notebook][nb], but with the cartpole problem.\n",
    "\n",
    "[nb]: https://github.com/dynamicslab/pysindy/blob/master/examples/9_sindypi_with_sympy.ipynb"
   ]
  },
  {
   "cell_type": "code",
   "execution_count": null,
   "metadata": {},
   "outputs": [],
   "source": [
    "%load_ext autoreload\n",
    "%autoreload 2\n"
   ]
  },
  {
   "cell_type": "code",
   "execution_count": null,
   "metadata": {},
   "outputs": [],
   "source": [
    "#| include: false\n",
    "import os\n",
    "import re\n",
    "from concurrent import futures as f\n",
    "from copy import deepcopy\n",
    "from pathlib import Path\n",
    "\n",
    "import matplotlib.pyplot as plt\n",
    "import numpy as np\n",
    "import pysindy as ps\n",
    "import sympy as sp\n",
    "from scipy.integrate import solve_ivp\n",
    "\n",
    "from cartpole import Cartpole, Problem, ThinnedModel, cache_model, load_model\n"
   ]
  },
  {
   "cell_type": "code",
   "execution_count": null,
   "metadata": {},
   "outputs": [],
   "source": [
    "#| include: false\n",
    "\n",
    "# Set up logging/debugging: >= WARNING except for our code (INFO).\n",
    "import logging\n",
    "\n",
    "logging.basicConfig(level=\"WARNING\", format=\"%(message)s\")\n",
    "log = logging.getLogger(\"cartpole\")\n",
    "log.setLevel(\"INFO\")\n"
   ]
  },
  {
   "cell_type": "code",
   "execution_count": null,
   "metadata": {},
   "outputs": [],
   "source": [
    "#| include: false\n",
    "\n",
    "# Set up plotting styles\n",
    "try:\n",
    "    from eriplots import eri_style  # type: ignore\n",
    "\n",
    "    plt.style.use(eri_style)\n",
    "except ImportError:\n",
    "    log.info(\"Note: eriplots styles aren't available\")\n"
   ]
  },
  {
   "attachments": {},
   "cell_type": "markdown",
   "metadata": {},
   "source": [
    "## Set up the data sets\n",
    "\n",
    "Following the SINDy-PI paper, we have three different sets of\n",
    "samples with different forcing functions: train, val, and test.\n"
   ]
  },
  {
   "cell_type": "code",
   "execution_count": null,
   "metadata": {},
   "outputs": [],
   "source": [
    "# Training data\n",
    "train_pars = Cartpole(f=lambda t: -0.2 + 0.5 * np.sin(6 * t))\n",
    "train = Problem(train_pars, [0.3, 0, 1, 0], (0, 16), step=0.01)\n",
    "\n",
    "train.plot()\n",
    "plt.suptitle(\"Training inputs\")\n",
    "plt.tight_layout()"
   ]
  },
  {
   "cell_type": "code",
   "execution_count": null,
   "metadata": {},
   "outputs": [],
   "source": [
    "# Validation data\n",
    "val_pars = Cartpole(f=lambda t: -1 + 1 * np.sin(t) + 3 * np.sin(2 * t))\n",
    "val = Problem(val_pars, [0.1, 0, 0.1, 0], (0, 2))\n",
    "\n",
    "val.plot()\n",
    "plt.suptitle(\"Validation inputs\")\n",
    "plt.tight_layout()"
   ]
  },
  {
   "cell_type": "code",
   "execution_count": null,
   "metadata": {},
   "outputs": [],
   "source": [
    "test_pars = Cartpole(f=lambda t: -0.5 + 0.2 * np.sin(t) + 0.3 * np.sin(2 * t))\n",
    "test = Problem(test_pars, [np.pi, 0, 0, 0], (0, 2))\n",
    "\n",
    "test.plot()\n",
    "plt.suptitle(\"Test inputs\")\n",
    "plt.tight_layout()"
   ]
  },
  {
   "attachments": {},
   "cell_type": "markdown",
   "metadata": {},
   "source": [
    "## Solve the models\n",
    "\n",
    "For now, let's only solve the $\\phi$ equations. Note that we have\n",
    "to solve this problem as a coupled set of 1st-order ODEs (it\n",
    "seems) to get functions of $\\dot\\phi$. I'd love to not have to do\n",
    "that, and I'd love to limit the trig functions so that we only\n",
    "have functions of $\\phi$ instead of $\\dot\\phi$, but that will\n",
    "take more work.\n",
    "\n",
    "Instead, what we are doing is providing the solver with $\\phi$\n",
    "(named `p`) and $\\dot\\phi$ (named `q`) and ask for solutions up\n",
    "to the first order in derivatives (`derivative_order = 1`, $\\dot\n",
    "p \\equiv \\dot\\phi$ and $\\dot q \\equiv \\ddot \\phi$). I'd rather\n",
    "only put in $\\phi$ and get out $\\ddot\\phi$ (`derivative_order =\n",
    "2`), but SINDy doesn't seem to mix in single-dot terms if we do\n",
    "that. Maybe I'm missing something.\n"
   ]
  },
  {
   "cell_type": "code",
   "execution_count": null,
   "metadata": {},
   "outputs": [],
   "source": [
    "# Solve the problem for \\phi and store the solution\n",
    "if True:\n",
    "    library = ps.PDELibrary(\n",
    "        library_functions=[\n",
    "            lambda x: x,\n",
    "            lambda x: x**2,\n",
    "            lambda x: np.sin(x),\n",
    "            lambda x: np.cos(x),\n",
    "            lambda x: np.sin(x) ** 2,\n",
    "            lambda x: np.sin(x) * np.cos(x),\n",
    "        ],\n",
    "        function_names=[\n",
    "            lambda x: x,\n",
    "            lambda x: x + x,\n",
    "            lambda x: f\"sin({x})\",\n",
    "            lambda x: f\"cos({x})\",\n",
    "            lambda x: f\"sin({x})sin({x})\",\n",
    "            lambda x: f\"sin({x})cos({x})\",\n",
    "        ],\n",
    "        derivative_order=1,\n",
    "        interaction_only=True,\n",
    "        implicit_terms=True,\n",
    "        temporal_grid=train.times(),\n",
    "    )\n",
    "\n",
    "    # Solving these as coupled 1st order ODEs seems like\n",
    "    # the only way to get quadratic functions of phi-dot.\n",
    "\n",
    "    # fit \\ddot\\phi ~ f(\\phi, \\dot\\phi)\n",
    "    model_p = ps.SINDy(ps.SINDyPI(), deepcopy(library), feature_names=[\"p\", \"q\"])\n",
    "    model_p.fit(train.simy()[[0, 2]].T, train.times())\n",
    "    \n",
    "    # Cache to save running time\n",
    "    destdir = Path(\"../../learnedModels/SINDyPI\")\n",
    "    if not os.path.exists(destdir):\n",
    "        os.makedirs(destdir)\n",
    "    cache_model(model_p, destdir / \"model_phi.pkl\")\n",
    "\n",
    "model_p = load_model(destdir / \"model_phi.pkl\")\n"
   ]
  },
  {
   "attachments": {},
   "cell_type": "markdown",
   "metadata": {},
   "source": [
    "Here's where we do the dance described in the [SINDy-PI\n",
    "notebook][nb]:\n",
    "\n",
    "- Convert a solved equation into a set of symbols\n",
    "- Solve the symbolic equations for $\\ddot\\phi$\n",
    "- Cast back into a form we can use downstream\n",
    "\n",
    "[nb]: https://github.com/dynamicslab/pysindy/blob/master/examples/9_sindypi_with_sympy.ipynb"
   ]
  },
  {
   "cell_type": "code",
   "execution_count": null,
   "metadata": {},
   "outputs": [],
   "source": [
    "#| include: false\n",
    "def setup_equations(symbols: list, coefs: np.ndarray, round: int = 10) -> list:\n",
    "    \"\"\"Convert a model output to a set of symbolic equations to be solved.\"\"\"\n",
    "    log.info(f\"Setting up {len(symbols)} equation{'s' * (len(symbols)!=1)}\")\n",
    "\n",
    "    with f.ProcessPoolExecutor() as x:\n",
    "        jobs = {}\n",
    "        for i, (sym, coef) in enumerate(zip(symbols, coefs, strict=True)):\n",
    "            j = x.submit(sp.solve, sp.Eq(sym, symbols @ np.around(coef, round)), sym)\n",
    "            jobs[j] = i\n",
    "\n",
    "        equations = {}\n",
    "        for j in f.as_completed(jobs):\n",
    "            eqn = [\"None\"] if not j.result() else j.result()\n",
    "            assert len(eqn) == 1, \"Expected a single symbolic equation\"\n",
    "            equations[jobs[j]] = eqn[0]\n",
    "\n",
    "    return [equations[k] for k in sorted(equations)]\n",
    "\n",
    "\n",
    "def scrub_features(eqns: list[str], maps: dict[str, str]) -> list[str]:\n",
    "    \"\"\"Convert SINDy feature strings to symbols.\"\"\"\n",
    "\n",
    "    # Consolidate dot names, e.g., 'q' = 'p_t' in a set of ODEs\n",
    "    neweqs = [str(eq).replace(k, v) for eq in eqns for k, v in maps.items()]\n",
    "\n",
    "    # The above sometimes makes 'p_t_t' instead of 'p_tt'. Fix it.\n",
    "    neweqs = [eq.replace(\"_t_t\", \"_tt\") for eq in neweqs]\n",
    "\n",
    "    # Convert, e.g., 'pq' to 'p*q' or 'cos(x)x' to 'cos(x)*x'\n",
    "    RX = re.compile(r\"(?<=[spqrt)])([spqrc])\")\n",
    "    neweqs = [RX.sub(r\"*\\1\", eq) for eq in neweqs]\n",
    "\n",
    "    return neweqs\n",
    "\n",
    "\n",
    "def solve_for_target(y: str, ftrs: list[str], eqns: list, maps: dict[str, str]) -> list:\n",
    "    \"\"\"Solve a set of symbolic equations, individually, for the target.\"\"\"\n",
    "    neweqs = scrub_features(eqns, maps)\n",
    "    newftrs = scrub_features(ftrs, maps)\n",
    "    ysym = sp.symbols(y)\n",
    "\n",
    "    equations = []\n",
    "\n",
    "    # Do this in parallel\n",
    "    with f.ProcessPoolExecutor() as exe:\n",
    "        jobs = []\n",
    "        for sym, eqn in zip(newftrs, neweqs, strict=True):\n",
    "            if eqn == \"None\":\n",
    "                continue\n",
    "            s_eqn = sp.sympify(eqn)\n",
    "            s_sym = sp.sympify(sym)\n",
    "            jobs += [exe.submit(sp.solve, sp.Add(s_eqn, -s_sym), ysym)]\n",
    "        for j in f.as_completed(jobs):\n",
    "            soln = j.result()\n",
    "            if soln is not None:\n",
    "                assert len(soln) == 1, \"Expected a single symbolc equation\"\n",
    "                equations += [soln[0]]\n",
    "\n",
    "    return equations\n",
    "\n",
    "\n",
    "def solve_equations(model: ThinnedModel, target: str, maps: dict[str, str]):\n",
    "    \"\"\"Solve equations produced by a SINDy-PI model.\"\"\"\n",
    "    features = model.features\n",
    "    coefs = model.coefficients\n",
    "    \n",
    "    log.info(\"Setting up model with features:\")\n",
    "    for f in features:\n",
    "        log.info(f\" - {f}\")\n",
    "\n",
    "    equations = setup_equations([sp.symbols(f) for f in features], coefs)\n",
    "    equations = solve_for_target(target, features, equations, maps)\n",
    "\n",
    "    return equations\n"
   ]
  },
  {
   "cell_type": "code",
   "execution_count": null,
   "metadata": {},
   "outputs": [],
   "source": [
    "# This takes about 1 minute on my Intel MBP\n",
    "peqns = solve_equations(model_p, \"p_tt\", {\"q\": \"p_t\"})\n"
   ]
  },
  {
   "attachments": {},
   "cell_type": "markdown",
   "metadata": {},
   "source": [
    "## Generate solutions from each solved equation\n",
    "\n",
    "Each equation is a solution for the 2D 1st-order ODE problem we\n",
    "gave the solver, so we get back one solution for $\\dot\\phi$ and\n",
    "another for $\\ddot\\phi$. We use those to compute ODE solutions\n",
    "and plot how well they reproduce the expected behavior."
   ]
  },
  {
   "cell_type": "code",
   "execution_count": null,
   "metadata": {},
   "outputs": [],
   "source": [
    "# Generate solutions for each equation\n",
    "pivps = []\n",
    "for eqn in peqns:\n",
    "    fn = sp.lambdify(sp.symbols(\"p p_t\"), eqn, \"numpy\")\n",
    "\n",
    "    def wrapper(_, arr):\n",
    "        p, p_t = arr\n",
    "        p_tt = fn(p, p_t)\n",
    "        return np.stack([p_t, p_tt])\n",
    "\n",
    "    ivp = solve_ivp(\n",
    "        wrapper,\n",
    "        val.time,\n",
    "        val.init[::2],\n",
    "        method=\"Radau\",\n",
    "        t_eval=val.times(),\n",
    "        rtol=1e-6,\n",
    "        atol=1e-6,\n",
    "        dense_output=True,\n",
    "    )\n",
    "\n",
    "    if ivp.y.shape[-1] != val.times().shape[-1]:\n",
    "        log.warning(\"Incorrect shape, skipping solution\")\n",
    "        continue\n",
    "\n",
    "    rmse = np.sqrt(np.mean((val.simy()[0] - ivp.y[0]) ** 2))\n",
    "    log.info(f\"{str(eqn)[:60]}: {rmse:.5f}\")\n",
    "    pivps += [(ivp, rmse)]\n"
   ]
  },
  {
   "cell_type": "code",
   "execution_count": null,
   "metadata": {},
   "outputs": [],
   "source": [
    "#| echo: false\n",
    "fig, ax = plt.subplots()\n",
    "for (ivp, _) in pivps:\n",
    "    ax.plot(val.times(), ivp.sol(val.times())[0], c=\"0.4\", alpha=0.5, lw=1)\n",
    "ax.plot(val.times(), val.simy()[0], zorder=0)\n",
    "ax.set_ylim(0, 10)\n",
    "pass"
   ]
  },
  {
   "cell_type": "code",
   "execution_count": null,
   "metadata": {},
   "outputs": [],
   "source": []
  }
 ],
 "metadata": {
  "kernelspec": {
   "display_name": "venv",
   "language": "python",
   "name": "python3"
  },
  "language_info": {
   "codemirror_mode": {
    "name": "ipython",
    "version": 3
   },
   "file_extension": ".py",
   "mimetype": "text/x-python",
   "name": "python",
   "nbconvert_exporter": "python",
   "pygments_lexer": "ipython3",
   "version": "3.10.9"
  },
  "vscode": {
   "interpreter": {
    "hash": "90055d06d15f901364317c98db9bcf1ee50e389e045687553f66c08a42a31847"
   }
  }
 },
 "nbformat": 4,
 "nbformat_minor": 2
}
